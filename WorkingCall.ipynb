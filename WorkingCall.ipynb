{
 "cells": [
  {
   "cell_type": "code",
   "execution_count": 16,
   "id": "a760b285-f1cd-439d-b89c-2112175fbde6",
   "metadata": {},
   "outputs": [
    {
     "name": "stdout",
     "output_type": "stream",
     "text": [
      "Prompt response: {'message': {'role': 'assistant', 'content': [{'text': '```json\\n{\\n  \"title\": \"Example Lab Equipment\",\\n  \"short_description\": \"A high-quality lab equipment designed for precise measurements.\",\\n  \"full_description\": \"<p>This lab equipment is designed for precise measurements in various scientific experiments. It features advanced technology and user-friendly interface.</p>\",\\n  \"source_url\": \"https://example.com\",\\n  \"slug\": \"example-lab-equipment\",\\n  \"tags\": [\\n    {\"category\": \"Manufacturer\", \"name\": \"Example Manufacturer\"},\\n    {\"category\": \"Product Category\", \"name\": \"Lab Equipment\"},\\n    {\"category\": \"Product Application\", \"name\": \"Scientific Research\"}\\n  ],\\n  \"models\": [\\n    {\\n      \"name\": \"Model X123\",\\n      \"model_number\": \"X123-001\",\\n      \"specifications\": [\\n        {\\n          \"name\": \"Physical\",\\n          \"specs\": [\\n            {\"key\": \"Weight\", \"value\": \"5 kg\"},\\n            {\"key\": \"Dimensions\", \"value\": \"30 cm x 20 cm x 10 cm\"}\\n          ]\\n        },\\n        {\\n          \"name\": \"Electrical\",\\n          \"specs\": [\\n            {\"key\": \"Voltage\", \"value\": \"110V\"},\\n            {\"key\": \"Power Consumption\", \"value\": \"100W\"}\\n          ]\\n        }\\n      ]\\n    }\\n  ],\\n  \"images\": [\\n    \"https://example.com/images/model-x123.jpg\",\\n    \"https://example.com/images/model-x123-side.jpg\"\\n  ],\\n  \"specifications\": [\\n    {\\n      \"name\": \"General\",\\n      \"specs\": [\\n        {\"key\": \"Material\", \"value\": \"Stainless Steel\"},\\n        {\"key\": \"Color\", \"value\": \"Silver\"}\\n      ]\\n    }\\n  ],\\n  \"source_type\": \"new\",\\n  \"specification_confidence\": \"high\",\\n  \"needs_review\": false\\n}\\n```'}]}}\n"
     ]
    }
   ],
   "source": [
    "import boto3\n",
    "import json\n",
    "\n",
    "bedrock_runtime = boto3.client('bedrock-runtime', region_name='us-east-1')\n",
    "\n",
    "model_id = 'amazon.nova-lite-v1:0'\n",
    "prompt_arn = 'arn:aws:bedrock:us-east-1:891377295311:prompt/LGO4BMQJG7'\n",
    "\n",
    "input_variables = {\n",
    "    'site_html': {'text':'Your HTML content here'},\n",
    "    'page_url': {'text':'https://example.com'},\n",
    "    'existing_tags': {'text': 'blah blah'}\n",
    "}\n",
    "\n",
    "try:\n",
    "    response = bedrock_runtime.converse(\n",
    "        modelId=prompt_arn,\n",
    "        promptVariables=input_variables\n",
    "    )\n",
    "    \n",
    "    result = response['output']\n",
    "    print(\"Prompt response:\", result)\n",
    "\n",
    "except Exception as e:\n",
    "    print(f\"An error occurred: {str(e)}\")\n"
   ]
  },
  {
   "cell_type": "code",
   "execution_count": 18,
   "id": "12d455db-492d-49ac-a693-36b81793620e",
   "metadata": {},
   "outputs": [
    {
     "data": {
      "text/plain": [
       "{'message': {'role': 'assistant',\n",
       "  'content': [{'text': '```json\\n{\\n  \"title\": \"Example Lab Equipment\",\\n  \"short_description\": \"A high-quality lab equipment designed for precise measurements.\",\\n  \"full_description\": \"<p>This lab equipment is designed for precise measurements in various scientific experiments. It features advanced technology and user-friendly interface.</p>\",\\n  \"source_url\": \"https://example.com\",\\n  \"slug\": \"example-lab-equipment\",\\n  \"tags\": [\\n    {\"category\": \"Manufacturer\", \"name\": \"Example Manufacturer\"},\\n    {\"category\": \"Product Category\", \"name\": \"Lab Equipment\"},\\n    {\"category\": \"Product Application\", \"name\": \"Scientific Research\"}\\n  ],\\n  \"models\": [\\n    {\\n      \"name\": \"Model X123\",\\n      \"model_number\": \"X123-001\",\\n      \"specifications\": [\\n        {\\n          \"name\": \"Physical\",\\n          \"specs\": [\\n            {\"key\": \"Weight\", \"value\": \"5 kg\"},\\n            {\"key\": \"Dimensions\", \"value\": \"30 cm x 20 cm x 10 cm\"}\\n          ]\\n        },\\n        {\\n          \"name\": \"Electrical\",\\n          \"specs\": [\\n            {\"key\": \"Voltage\", \"value\": \"110V\"},\\n            {\"key\": \"Power Consumption\", \"value\": \"100W\"}\\n          ]\\n        }\\n      ]\\n    }\\n  ],\\n  \"images\": [\\n    \"https://example.com/images/model-x123.jpg\",\\n    \"https://example.com/images/model-x123-side.jpg\"\\n  ],\\n  \"specifications\": [\\n    {\\n      \"name\": \"General\",\\n      \"specs\": [\\n        {\"key\": \"Material\", \"value\": \"Stainless Steel\"},\\n        {\"key\": \"Color\", \"value\": \"Silver\"}\\n      ]\\n    }\\n  ],\\n  \"source_type\": \"new\",\\n  \"specification_confidence\": \"high\",\\n  \"needs_review\": false\\n}\\n```'}]}}"
      ]
     },
     "execution_count": 18,
     "metadata": {},
     "output_type": "execute_result"
    }
   ],
   "source": [
    "result"
   ]
  },
  {
   "cell_type": "code",
   "execution_count": null,
   "id": "fd5aad93-bee4-4a21-8228-ee5d4e12c8d4",
   "metadata": {},
   "outputs": [],
   "source": []
  }
 ],
 "metadata": {
  "kernelspec": {
   "display_name": "Python 3 (ipykernel)",
   "language": "python",
   "name": "python3"
  },
  "language_info": {
   "codemirror_mode": {
    "name": "ipython",
    "version": 3
   },
   "file_extension": ".py",
   "mimetype": "text/x-python",
   "name": "python",
   "nbconvert_exporter": "python",
   "pygments_lexer": "ipython3",
   "version": "3.13.2"
  }
 },
 "nbformat": 4,
 "nbformat_minor": 5
}
